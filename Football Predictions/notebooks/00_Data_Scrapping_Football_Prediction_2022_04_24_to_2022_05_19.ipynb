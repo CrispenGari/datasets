{
  "nbformat": 4,
  "nbformat_minor": 0,
  "metadata": {
    "colab": {
      "name": "00_Data_Scrapping_Football_Prediction-2022-04-24-to-2022-05-19.ipynb",
      "provenance": [],
      "collapsed_sections": []
    },
    "kernelspec": {
      "name": "python3",
      "display_name": "Python 3"
    },
    "language_info": {
      "name": "python"
    }
  },
  "cells": [
    {
      "cell_type": "markdown",
      "source": [
        "___\n",
        "\n",
        "Main: `Data collection`\n",
        "\n",
        "Data Collector: `@crispengari`\n",
        "\n",
        "Data: `Football Prediction`\n",
        "\n",
        "Packages: `BeautifulSoup`, `requests`, `pandas`\n",
        "\n",
        "Description: `Collecting data for football predictions.`\n",
        "\n",
        "Data Source: [`www.forebet.com`](https://www.forebet.com/en/football-predictions/predictions-1x2/2022-05-18)\n",
        "\n",
        "Date: `2022-05-20`\n",
        "___\n",
        "\n",
        "_Note that this data was collected from `2022-04-24` to `2022-05-19`._\n",
        "\n",
        "\n",
        "\n",
        "In this notebook we are going to use webscrapping to collect some data on the [www.forebet.com](https://www.forebet.com/en/football-predictions/predictions-1x2/2022-05-18).\n",
        "\n",
        "### Football Predictions Dataset\n",
        "\n",
        "We are going to scrap the daily football predictions data using `BeautifulSoup`.\n",
        "\n",
        "\n",
        "### Imports\n",
        "In the following code cell we are goin to import all the required packages that we are going to use in scraping and saving data in a `csv` file.\n",
        "\n"
      ],
      "metadata": {
        "id": "cJoLuKVhQ1JM"
      }
    },
    {
      "cell_type": "code",
      "execution_count": 1,
      "metadata": {
        "id": "t4AMOsxOITbW"
      },
      "outputs": [],
      "source": [
        "import requests\n",
        "import pandas as pd\n",
        "import numpy as np\n",
        "from bs4 import BeautifulSoup as bs\n"
      ]
    },
    {
      "cell_type": "markdown",
      "source": [
        "### Scrapping a single page\n",
        "\n",
        "In the following code cell we are going to scrape the football predictions for the day `2022-05-18` for testing purposes."
      ],
      "metadata": {
        "id": "ERGQ9vJUa4_0"
      }
    },
    {
      "cell_type": "code",
      "source": [
        "url = r'https://www.forebet.com/en/football-predictions/predictions-1x2/2022-05-18'\n",
        "html = requests.get(url)\n",
        "soup = bs(html.content, 'html.parser')"
      ],
      "metadata": {
        "id": "TclZUdQLIUN_"
      },
      "execution_count": 2,
      "outputs": []
    },
    {
      "cell_type": "markdown",
      "source": [
        "In the following code cell we are going to define the columns of data that we are going to store in a `csv` and the fields that we are going to `scrape`."
      ],
      "metadata": {
        "id": "ulNaibcCbOUZ"
      }
    },
    {
      "cell_type": "code",
      "source": [
        "\"\"\"\n",
        "home_win = 1\n",
        "draw = 0\n",
        "away_win = 2\n",
        "\"\"\"\n",
        "columns =  [\n",
        " \"home_team\", \"away_team\", \"home_win_probability\", \"draw_probability\", \"away_win_probability\",\n",
        " \"temperature\",\n",
        " \"avg_goals\", \"home_win_odds\", \"draw_odds\", \"away_win_odds\", \"predicted_home_team_goals\", \"predicted_away_team_goals\",\n",
        " \"actual_home_team_goals\", \"actual_away_team_goals\", \"home_result\"\n",
        "]"
      ],
      "metadata": {
        "id": "Ma1Obk48Iet-"
      },
      "execution_count": 3,
      "outputs": []
    },
    {
      "cell_type": "markdown",
      "source": [
        "In the following code cell we are going to scrape the data for the defined columns based on a single match. We will later on iterate over these results to create a giant `csv` file."
      ],
      "metadata": {
        "id": "WGNbLOjrbf5x"
      }
    },
    {
      "cell_type": "code",
      "source": [
        "day_teams = soup.find_all(\"div\", {\"class\": \"rcnt tr_0\"})\n",
        "home_team = day_teams[0].find('span', {'class': 'homeTeam'}).text\n",
        "away_team = day_teams[0].find('span', {'class': 'awayTeam'}).text\n",
        "home_win_probability, draw_probability, away_win_probability  = [float(prob.text) for prob in day_teams[0].find('div', {'class': 'fprc'}).find_all('span')]\n",
        "temperature = float(day_teams[0].find('span', {'class': 'wnums'}).text.replace('°', ''))\n",
        "avg_goals = float(day_teams[0].find('div', {'class': 'avg_sc'}).text)\n",
        "home_win_odds, draw_odds, away_win_odds = [float(prob.text) for prob in day_teams[0].find('div', {'class': 'haodd'}).find_all('span')[:3]]\n",
        "predicted_home_team_goals, predicted_away_team_goals = [int(i.strip()) for i in day_teams[0].find('div', {'class': 'ex_sc'}).text.split('-')]\n",
        "actual_home_team_goals, actual_away_team_goals = [int(i.strip()) for i in day_teams[0].find('b', {'class': 'l_scr'}).text.split('-')]\n",
        "home_result = 0 if actual_home_team_goals == actual_away_team_goals else 1 if actual_home_team_goals > actual_away_team_goals else 2"
      ],
      "metadata": {
        "id": "lNeQppICKutL"
      },
      "execution_count": 4,
      "outputs": []
    },
    {
      "cell_type": "markdown",
      "source": [
        "### Creating a Giant Football prediction dataset.\n",
        "\n",
        "Our football prediction dataset will start from `2022-04-24` to `2022-05-19`. So we will need to generate dates between these range. To collect this data we are going to follow the following steps in order:\n",
        "\n",
        "1. programatically change the date in the url `https://www.forebet.com/en/football-predictions/predictions-1x2/<date>` for the provided dates.\n",
        "2. Loop through the results and store them in a list as turples.\n",
        "3. Create a dataframe based on teh columns defined above and save a `csv` file.\n"
      ],
      "metadata": {
        "id": "Ae1xIGZBcwj1"
      }
    },
    {
      "cell_type": "code",
      "source": [
        "dates = pd.date_range(start=\"2022-04-24\",end=\"2022-05-19\")"
      ],
      "metadata": {
        "id": "HmvVkbY9MOup"
      },
      "execution_count": 5,
      "outputs": []
    },
    {
      "cell_type": "code",
      "source": [
        "data = list()\n",
        "for date in dates:\n",
        "  url = r'https://www.forebet.com/en/football-predictions/predictions-1x2/'+str(date).split(\" \")[0].strip()\n",
        "  html = requests.get(url)\n",
        "  soup = bs(html.content, 'html.parser')\n",
        "  # now we can scrap the data.\n",
        "  day_teams = soup.find_all(\"div\", {\"class\": \"rcnt\"})\n",
        "  for day_team in day_teams:\n",
        "    try:\n",
        "      home_team = day_team.find('span', {'class': 'homeTeam'}).text\n",
        "      away_team = day_team.find('span', {'class': 'awayTeam'}).text\n",
        "      home_win_probability, draw_probability, away_win_probability  = [float(prob.text) for prob in day_team.find('div', {'class': 'fprc'}).find_all('span')]\n",
        "      temperature = float(day_team.find('span', {'class': 'wnums'}).text.replace('°', ''))\n",
        "      avg_goals = float(day_team.find('div', {'class': 'avg_sc'}).text)\n",
        "      home_win_odds, draw_odds, away_win_odds = [float(prob.text) for prob in day_team.find('div', {'class': 'haodd'}).find_all('span')[:3]]\n",
        "      predicted_home_team_goals, predicted_away_team_goals = [int(i.strip()) for i in day_team.find('div', {'class': 'ex_sc'}).text.split('-')]\n",
        "      actual_home_team_goals, actual_away_team_goals = [int(i.strip()) for i in day_team.find('b', {'class': 'l_scr'}).text.split('-')]\n",
        "      home_result = 0 if actual_home_team_goals == actual_away_team_goals else 1 if actual_home_team_goals > actual_away_team_goals else 2\n",
        "      \n",
        "      data.append((home_team, away_team, home_win_probability, draw_probability, away_win_probability, temperature,\n",
        "            avg_goals, home_win_odds, draw_odds, away_win_odds, predicted_home_team_goals, predicted_away_team_goals,\n",
        "            actual_home_team_goals, actual_away_team_goals, home_result))\n",
        "    except Exception:\n",
        "      pass"
      ],
      "metadata": {
        "id": "mxiKjR3zOnaj"
      },
      "execution_count": 6,
      "outputs": []
    },
    {
      "cell_type": "code",
      "source": [
        "dataframe = pd.DataFrame(data, columns=columns)\n",
        "dataframe.head()"
      ],
      "metadata": {
        "colab": {
          "base_uri": "https://localhost:8080/",
          "height": 357
        },
        "id": "KCgArArfOoqD",
        "outputId": "c7f6d209-be02-427d-b5b9-c8752ac5a979"
      },
      "execution_count": 7,
      "outputs": [
        {
          "output_type": "execute_result",
          "data": {
            "text/plain": [
              "         home_team         away_team  home_win_probability  draw_probability  \\\n",
              "0  Colorado Rapids      Charlotte FC                  41.0              29.0   \n",
              "1  Santos Guápiles          Saprissa                  31.0              37.0   \n",
              "2       Malacateco   C.D. Guastatoya                  43.0              39.0   \n",
              "3      Santa Tecla    Atlético Marte                  31.0              46.0   \n",
              "4        CD Águila  Luís Ángel Firpo                  50.0              31.0   \n",
              "\n",
              "   away_win_probability  temperature  avg_goals  home_win_odds  draw_odds  \\\n",
              "0                  30.0         10.0       1.17           1.55       4.00   \n",
              "1                  32.0         22.0       3.27           2.63       3.25   \n",
              "2                  18.0         24.0       1.95           1.80       3.25   \n",
              "3                  24.0         20.0       2.01           2.20       3.20   \n",
              "4                  20.0         24.0       2.56           1.73       3.20   \n",
              "\n",
              "   away_win_odds  predicted_home_team_goals  predicted_away_team_goals  \\\n",
              "0           5.75                          2                          0   \n",
              "1           2.38                          2                          2   \n",
              "2           4.00                          1                          0   \n",
              "3           2.88                          1                          1   \n",
              "4           4.50                          3                          0   \n",
              "\n",
              "   actual_home_team_goals  actual_away_team_goals  home_result  \n",
              "0                       0                       0            0  \n",
              "1                       2                       1            1  \n",
              "2                       0                       0            0  \n",
              "3                       1                       1            0  \n",
              "4                       1                       0            1  "
            ],
            "text/html": [
              "\n",
              "  <div id=\"df-e62de9c8-5336-4b50-89a6-1ff7a2ffce9b\">\n",
              "    <div class=\"colab-df-container\">\n",
              "      <div>\n",
              "<style scoped>\n",
              "    .dataframe tbody tr th:only-of-type {\n",
              "        vertical-align: middle;\n",
              "    }\n",
              "\n",
              "    .dataframe tbody tr th {\n",
              "        vertical-align: top;\n",
              "    }\n",
              "\n",
              "    .dataframe thead th {\n",
              "        text-align: right;\n",
              "    }\n",
              "</style>\n",
              "<table border=\"1\" class=\"dataframe\">\n",
              "  <thead>\n",
              "    <tr style=\"text-align: right;\">\n",
              "      <th></th>\n",
              "      <th>home_team</th>\n",
              "      <th>away_team</th>\n",
              "      <th>home_win_probability</th>\n",
              "      <th>draw_probability</th>\n",
              "      <th>away_win_probability</th>\n",
              "      <th>temperature</th>\n",
              "      <th>avg_goals</th>\n",
              "      <th>home_win_odds</th>\n",
              "      <th>draw_odds</th>\n",
              "      <th>away_win_odds</th>\n",
              "      <th>predicted_home_team_goals</th>\n",
              "      <th>predicted_away_team_goals</th>\n",
              "      <th>actual_home_team_goals</th>\n",
              "      <th>actual_away_team_goals</th>\n",
              "      <th>home_result</th>\n",
              "    </tr>\n",
              "  </thead>\n",
              "  <tbody>\n",
              "    <tr>\n",
              "      <th>0</th>\n",
              "      <td>Colorado Rapids</td>\n",
              "      <td>Charlotte FC</td>\n",
              "      <td>41.0</td>\n",
              "      <td>29.0</td>\n",
              "      <td>30.0</td>\n",
              "      <td>10.0</td>\n",
              "      <td>1.17</td>\n",
              "      <td>1.55</td>\n",
              "      <td>4.00</td>\n",
              "      <td>5.75</td>\n",
              "      <td>2</td>\n",
              "      <td>0</td>\n",
              "      <td>0</td>\n",
              "      <td>0</td>\n",
              "      <td>0</td>\n",
              "    </tr>\n",
              "    <tr>\n",
              "      <th>1</th>\n",
              "      <td>Santos Guápiles</td>\n",
              "      <td>Saprissa</td>\n",
              "      <td>31.0</td>\n",
              "      <td>37.0</td>\n",
              "      <td>32.0</td>\n",
              "      <td>22.0</td>\n",
              "      <td>3.27</td>\n",
              "      <td>2.63</td>\n",
              "      <td>3.25</td>\n",
              "      <td>2.38</td>\n",
              "      <td>2</td>\n",
              "      <td>2</td>\n",
              "      <td>2</td>\n",
              "      <td>1</td>\n",
              "      <td>1</td>\n",
              "    </tr>\n",
              "    <tr>\n",
              "      <th>2</th>\n",
              "      <td>Malacateco</td>\n",
              "      <td>C.D. Guastatoya</td>\n",
              "      <td>43.0</td>\n",
              "      <td>39.0</td>\n",
              "      <td>18.0</td>\n",
              "      <td>24.0</td>\n",
              "      <td>1.95</td>\n",
              "      <td>1.80</td>\n",
              "      <td>3.25</td>\n",
              "      <td>4.00</td>\n",
              "      <td>1</td>\n",
              "      <td>0</td>\n",
              "      <td>0</td>\n",
              "      <td>0</td>\n",
              "      <td>0</td>\n",
              "    </tr>\n",
              "    <tr>\n",
              "      <th>3</th>\n",
              "      <td>Santa Tecla</td>\n",
              "      <td>Atlético Marte</td>\n",
              "      <td>31.0</td>\n",
              "      <td>46.0</td>\n",
              "      <td>24.0</td>\n",
              "      <td>20.0</td>\n",
              "      <td>2.01</td>\n",
              "      <td>2.20</td>\n",
              "      <td>3.20</td>\n",
              "      <td>2.88</td>\n",
              "      <td>1</td>\n",
              "      <td>1</td>\n",
              "      <td>1</td>\n",
              "      <td>1</td>\n",
              "      <td>0</td>\n",
              "    </tr>\n",
              "    <tr>\n",
              "      <th>4</th>\n",
              "      <td>CD Águila</td>\n",
              "      <td>Luís Ángel Firpo</td>\n",
              "      <td>50.0</td>\n",
              "      <td>31.0</td>\n",
              "      <td>20.0</td>\n",
              "      <td>24.0</td>\n",
              "      <td>2.56</td>\n",
              "      <td>1.73</td>\n",
              "      <td>3.20</td>\n",
              "      <td>4.50</td>\n",
              "      <td>3</td>\n",
              "      <td>0</td>\n",
              "      <td>1</td>\n",
              "      <td>0</td>\n",
              "      <td>1</td>\n",
              "    </tr>\n",
              "  </tbody>\n",
              "</table>\n",
              "</div>\n",
              "      <button class=\"colab-df-convert\" onclick=\"convertToInteractive('df-e62de9c8-5336-4b50-89a6-1ff7a2ffce9b')\"\n",
              "              title=\"Convert this dataframe to an interactive table.\"\n",
              "              style=\"display:none;\">\n",
              "        \n",
              "  <svg xmlns=\"http://www.w3.org/2000/svg\" height=\"24px\"viewBox=\"0 0 24 24\"\n",
              "       width=\"24px\">\n",
              "    <path d=\"M0 0h24v24H0V0z\" fill=\"none\"/>\n",
              "    <path d=\"M18.56 5.44l.94 2.06.94-2.06 2.06-.94-2.06-.94-.94-2.06-.94 2.06-2.06.94zm-11 1L8.5 8.5l.94-2.06 2.06-.94-2.06-.94L8.5 2.5l-.94 2.06-2.06.94zm10 10l.94 2.06.94-2.06 2.06-.94-2.06-.94-.94-2.06-.94 2.06-2.06.94z\"/><path d=\"M17.41 7.96l-1.37-1.37c-.4-.4-.92-.59-1.43-.59-.52 0-1.04.2-1.43.59L10.3 9.45l-7.72 7.72c-.78.78-.78 2.05 0 2.83L4 21.41c.39.39.9.59 1.41.59.51 0 1.02-.2 1.41-.59l7.78-7.78 2.81-2.81c.8-.78.8-2.07 0-2.86zM5.41 20L4 18.59l7.72-7.72 1.47 1.35L5.41 20z\"/>\n",
              "  </svg>\n",
              "      </button>\n",
              "      \n",
              "  <style>\n",
              "    .colab-df-container {\n",
              "      display:flex;\n",
              "      flex-wrap:wrap;\n",
              "      gap: 12px;\n",
              "    }\n",
              "\n",
              "    .colab-df-convert {\n",
              "      background-color: #E8F0FE;\n",
              "      border: none;\n",
              "      border-radius: 50%;\n",
              "      cursor: pointer;\n",
              "      display: none;\n",
              "      fill: #1967D2;\n",
              "      height: 32px;\n",
              "      padding: 0 0 0 0;\n",
              "      width: 32px;\n",
              "    }\n",
              "\n",
              "    .colab-df-convert:hover {\n",
              "      background-color: #E2EBFA;\n",
              "      box-shadow: 0px 1px 2px rgba(60, 64, 67, 0.3), 0px 1px 3px 1px rgba(60, 64, 67, 0.15);\n",
              "      fill: #174EA6;\n",
              "    }\n",
              "\n",
              "    [theme=dark] .colab-df-convert {\n",
              "      background-color: #3B4455;\n",
              "      fill: #D2E3FC;\n",
              "    }\n",
              "\n",
              "    [theme=dark] .colab-df-convert:hover {\n",
              "      background-color: #434B5C;\n",
              "      box-shadow: 0px 1px 3px 1px rgba(0, 0, 0, 0.15);\n",
              "      filter: drop-shadow(0px 1px 2px rgba(0, 0, 0, 0.3));\n",
              "      fill: #FFFFFF;\n",
              "    }\n",
              "  </style>\n",
              "\n",
              "      <script>\n",
              "        const buttonEl =\n",
              "          document.querySelector('#df-e62de9c8-5336-4b50-89a6-1ff7a2ffce9b button.colab-df-convert');\n",
              "        buttonEl.style.display =\n",
              "          google.colab.kernel.accessAllowed ? 'block' : 'none';\n",
              "\n",
              "        async function convertToInteractive(key) {\n",
              "          const element = document.querySelector('#df-e62de9c8-5336-4b50-89a6-1ff7a2ffce9b');\n",
              "          const dataTable =\n",
              "            await google.colab.kernel.invokeFunction('convertToInteractive',\n",
              "                                                     [key], {});\n",
              "          if (!dataTable) return;\n",
              "\n",
              "          const docLinkHtml = 'Like what you see? Visit the ' +\n",
              "            '<a target=\"_blank\" href=https://colab.research.google.com/notebooks/data_table.ipynb>data table notebook</a>'\n",
              "            + ' to learn more about interactive tables.';\n",
              "          element.innerHTML = '';\n",
              "          dataTable['output_type'] = 'display_data';\n",
              "          await google.colab.output.renderOutput(dataTable, element);\n",
              "          const docLink = document.createElement('div');\n",
              "          docLink.innerHTML = docLinkHtml;\n",
              "          element.appendChild(docLink);\n",
              "        }\n",
              "      </script>\n",
              "    </div>\n",
              "  </div>\n",
              "  "
            ]
          },
          "metadata": {},
          "execution_count": 7
        }
      ]
    },
    {
      "cell_type": "markdown",
      "source": [
        "Now we can save our `csv` as `football-predictions-2022-04-24-to-2022-05-19.csv`"
      ],
      "metadata": {
        "id": "hBMWEDX3hYWY"
      }
    },
    {
      "cell_type": "code",
      "source": [
        "dataframe.to_csv('football-predictions-2022-04-24-to-2022-05-19.csv', index=False)\n",
        "\n",
        "print(\"Done\")"
      ],
      "metadata": {
        "colab": {
          "base_uri": "https://localhost:8080/"
        },
        "id": "0v3uc-dVgeYd",
        "outputId": "49886ed2-c3e0-490d-c5ee-718bf885a238"
      },
      "execution_count": 8,
      "outputs": [
        {
          "output_type": "stream",
          "name": "stdout",
          "text": [
            "Done\n"
          ]
        }
      ]
    },
    {
      "cell_type": "code",
      "source": [
        "len(dataframe)"
      ],
      "metadata": {
        "colab": {
          "base_uri": "https://localhost:8080/"
        },
        "id": "cNOtAsUHk3Ke",
        "outputId": "39f6645f-1d98-4758-d1db-04adb8ac6f3e"
      },
      "execution_count": 9,
      "outputs": [
        {
          "output_type": "execute_result",
          "data": {
            "text/plain": [
              "1985"
            ]
          },
          "metadata": {},
          "execution_count": 9
        }
      ]
    },
    {
      "cell_type": "markdown",
      "source": [
        "### Football Prediction dataset\n",
        "\n",
        "This dataset contains `1985` rows of data for football match predictions.\n",
        "\n",
        "### Content\n",
        "This dataset contains the following `13` fields.\n",
        "\n",
        "1. `home_team`\n",
        "* The team name that is playing at home.\n",
        "2. `away_team`\n",
        "* The team name that is playing away.\n",
        "2. `home_win_probability`\n",
        "- A percentage of home team to win the match\n",
        "3. `draw_probability`\n",
        "- A percentage of both teams to draw the full match.\n",
        "4. `temperature`\n",
        "- A float number, temperature in degrees when the match was played.\n",
        "5. `avg_goals`\n",
        "- Total average goals for the teams.\n",
        "6. `home_win_odds`\n",
        "- The total odds for the home team to win the match\n",
        "7. `draw_odds`\n",
        "- The total odds for both teams to draw the match at full time.\n",
        "8. `away_win_odds`\n",
        "- The total number of odds for the away team to win the match.\n",
        "9. `predicted_home_team_goals`\n",
        "- The predicted goals for the home team to score during the match\n",
        "\n",
        "10. `predicted_away_team_goals`\n",
        "* The predicted goals for the away team to score.\n",
        "\n",
        "11. `actual_home_team_goals`\n",
        "* The actual scores that the home team scored at full time.\n",
        "12. `actual_away_team_goals`\n",
        "* The actual scoree that the away team scored at full time.\n",
        "13. `home_result`\n",
        "* A number, (`0=draw`, `1=win`, `2=lose`) weather the  home team win, lose or draw the match at full time\n"
      ],
      "metadata": {
        "id": "fuvDOjnziXuy"
      }
    },
    {
      "cell_type": "code",
      "source": [
        ""
      ],
      "metadata": {
        "id": "Wt3Ai4Q6h89T"
      },
      "execution_count": 8,
      "outputs": []
    }
  ]
}